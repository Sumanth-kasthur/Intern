{
 "cells": [
  {
   "cell_type": "code",
   "execution_count": 1,
   "metadata": {},
   "outputs": [],
   "source": [
    "import pandas as pd"
   ]
  },
  {
   "cell_type": "code",
   "execution_count": 2,
   "metadata": {},
   "outputs": [],
   "source": [
    "from sklearn.metrics import mean_squared_error"
   ]
  },
  {
   "cell_type": "code",
   "execution_count": 4,
   "metadata": {},
   "outputs": [],
   "source": [
    "data=pd.read_excel('pondperformance.xlsx')\n"
   ]
  },
  {
   "cell_type": "code",
   "execution_count": 5,
   "metadata": {},
   "outputs": [
    {
     "data": {
      "text/html": [
       "<div>\n",
       "<style scoped>\n",
       "    .dataframe tbody tr th:only-of-type {\n",
       "        vertical-align: middle;\n",
       "    }\n",
       "\n",
       "    .dataframe tbody tr th {\n",
       "        vertical-align: top;\n",
       "    }\n",
       "\n",
       "    .dataframe thead th {\n",
       "        text-align: right;\n",
       "    }\n",
       "</style>\n",
       "<table border=\"1\" class=\"dataframe\">\n",
       "  <thead>\n",
       "    <tr style=\"text-align: right;\">\n",
       "      <th></th>\n",
       "      <th>date</th>\n",
       "      <th>DOC</th>\n",
       "      <th>pond_area</th>\n",
       "      <th>feeding_company</th>\n",
       "      <th>no_feed</th>\n",
       "      <th>feed1(6am)</th>\n",
       "      <th>feed2(10am)</th>\n",
       "      <th>feed3(2pm)</th>\n",
       "      <th>feed4(6pm)</th>\n",
       "      <th>total_feed</th>\n",
       "      <th>...</th>\n",
       "      <th>Biomass</th>\n",
       "      <th>FCR</th>\n",
       "      <th>count</th>\n",
       "      <th>cost</th>\n",
       "      <th>cost1</th>\n",
       "      <th>current_bill</th>\n",
       "      <th>recurrent_inventory</th>\n",
       "      <th>c_current_bill</th>\n",
       "      <th>c_recurrent_inventory</th>\n",
       "      <th>capital</th>\n",
       "    </tr>\n",
       "  </thead>\n",
       "  <tbody>\n",
       "    <tr>\n",
       "      <th>0</th>\n",
       "      <td>2014-04-29</td>\n",
       "      <td>1</td>\n",
       "      <td>0.4</td>\n",
       "      <td>CP</td>\n",
       "      <td>0</td>\n",
       "      <td>1.0</td>\n",
       "      <td>0.0</td>\n",
       "      <td>0.0</td>\n",
       "      <td>1.0</td>\n",
       "      <td>2.0</td>\n",
       "      <td>...</td>\n",
       "      <td>0.000</td>\n",
       "      <td>NaN</td>\n",
       "      <td>NaN</td>\n",
       "      <td>160</td>\n",
       "      <td>NaN</td>\n",
       "      <td>2666.666667</td>\n",
       "      <td>1142.857143</td>\n",
       "      <td>2666.666667</td>\n",
       "      <td>1142.857143</td>\n",
       "      <td>300000</td>\n",
       "    </tr>\n",
       "    <tr>\n",
       "      <th>1</th>\n",
       "      <td>2014-04-30</td>\n",
       "      <td>2</td>\n",
       "      <td>0.4</td>\n",
       "      <td>CP</td>\n",
       "      <td>0</td>\n",
       "      <td>1.5</td>\n",
       "      <td>0.0</td>\n",
       "      <td>0.0</td>\n",
       "      <td>1.5</td>\n",
       "      <td>3.0</td>\n",
       "      <td>...</td>\n",
       "      <td>0.200</td>\n",
       "      <td>25.000000</td>\n",
       "      <td>1000000.000000</td>\n",
       "      <td>400</td>\n",
       "      <td>1.540095e+06</td>\n",
       "      <td>2666.666667</td>\n",
       "      <td>1142.857143</td>\n",
       "      <td>5333.333333</td>\n",
       "      <td>2285.714286</td>\n",
       "      <td>300000</td>\n",
       "    </tr>\n",
       "    <tr>\n",
       "      <th>2</th>\n",
       "      <td>2014-05-01</td>\n",
       "      <td>3</td>\n",
       "      <td>0.4</td>\n",
       "      <td>CP</td>\n",
       "      <td>0</td>\n",
       "      <td>2.0</td>\n",
       "      <td>0.0</td>\n",
       "      <td>0.0</td>\n",
       "      <td>2.0</td>\n",
       "      <td>4.0</td>\n",
       "      <td>...</td>\n",
       "      <td>1.400</td>\n",
       "      <td>6.428571</td>\n",
       "      <td>142857.142857</td>\n",
       "      <td>720</td>\n",
       "      <td>2.229633e+05</td>\n",
       "      <td>2666.666667</td>\n",
       "      <td>1142.857143</td>\n",
       "      <td>8000.000000</td>\n",
       "      <td>3428.571429</td>\n",
       "      <td>300000</td>\n",
       "    </tr>\n",
       "    <tr>\n",
       "      <th>3</th>\n",
       "      <td>2014-05-02</td>\n",
       "      <td>4</td>\n",
       "      <td>0.4</td>\n",
       "      <td>CP</td>\n",
       "      <td>0</td>\n",
       "      <td>2.5</td>\n",
       "      <td>0.0</td>\n",
       "      <td>0.0</td>\n",
       "      <td>2.5</td>\n",
       "      <td>5.0</td>\n",
       "      <td>...</td>\n",
       "      <td>1.800</td>\n",
       "      <td>7.777778</td>\n",
       "      <td>111111.111111</td>\n",
       "      <td>1120</td>\n",
       "      <td>1.757545e+05</td>\n",
       "      <td>2666.666667</td>\n",
       "      <td>1142.857143</td>\n",
       "      <td>10666.666667</td>\n",
       "      <td>4571.428571</td>\n",
       "      <td>300000</td>\n",
       "    </tr>\n",
       "    <tr>\n",
       "      <th>4</th>\n",
       "      <td>2014-05-03</td>\n",
       "      <td>5</td>\n",
       "      <td>0.4</td>\n",
       "      <td>CP</td>\n",
       "      <td>0</td>\n",
       "      <td>3.0</td>\n",
       "      <td>0.0</td>\n",
       "      <td>0.0</td>\n",
       "      <td>3.5</td>\n",
       "      <td>6.5</td>\n",
       "      <td>...</td>\n",
       "      <td>18.200</td>\n",
       "      <td>1.126374</td>\n",
       "      <td>10989.010989</td>\n",
       "      <td>1640</td>\n",
       "      <td>1.762020e+04</td>\n",
       "      <td>2666.666667</td>\n",
       "      <td>1142.857143</td>\n",
       "      <td>13333.333333</td>\n",
       "      <td>5714.285714</td>\n",
       "      <td>300000</td>\n",
       "    </tr>\n",
       "    <tr>\n",
       "      <th>...</th>\n",
       "      <td>...</td>\n",
       "      <td>...</td>\n",
       "      <td>...</td>\n",
       "      <td>...</td>\n",
       "      <td>...</td>\n",
       "      <td>...</td>\n",
       "      <td>...</td>\n",
       "      <td>...</td>\n",
       "      <td>...</td>\n",
       "      <td>...</td>\n",
       "      <td>...</td>\n",
       "      <td>...</td>\n",
       "      <td>...</td>\n",
       "      <td>...</td>\n",
       "      <td>...</td>\n",
       "      <td>...</td>\n",
       "      <td>...</td>\n",
       "      <td>...</td>\n",
       "      <td>...</td>\n",
       "      <td>...</td>\n",
       "      <td>...</td>\n",
       "    </tr>\n",
       "    <tr>\n",
       "      <th>115</th>\n",
       "      <td>2014-08-22</td>\n",
       "      <td>116</td>\n",
       "      <td>0.4</td>\n",
       "      <td>CP</td>\n",
       "      <td>4</td>\n",
       "      <td>13.0</td>\n",
       "      <td>12.5</td>\n",
       "      <td>12.5</td>\n",
       "      <td>13.0</td>\n",
       "      <td>51.0</td>\n",
       "      <td>...</td>\n",
       "      <td>3436.290</td>\n",
       "      <td>1.242386</td>\n",
       "      <td>51.072523</td>\n",
       "      <td>341536</td>\n",
       "      <td>3.152938e+02</td>\n",
       "      <td>2666.666667</td>\n",
       "      <td>1142.857143</td>\n",
       "      <td>309333.333333</td>\n",
       "      <td>132571.428571</td>\n",
       "      <td>300000</td>\n",
       "    </tr>\n",
       "    <tr>\n",
       "      <th>116</th>\n",
       "      <td>2014-08-23</td>\n",
       "      <td>117</td>\n",
       "      <td>0.4</td>\n",
       "      <td>CP</td>\n",
       "      <td>4</td>\n",
       "      <td>13.0</td>\n",
       "      <td>13.0</td>\n",
       "      <td>13.0</td>\n",
       "      <td>13.0</td>\n",
       "      <td>52.0</td>\n",
       "      <td>...</td>\n",
       "      <td>3446.820</td>\n",
       "      <td>1.253677</td>\n",
       "      <td>50.916497</td>\n",
       "      <td>345696</td>\n",
       "      <td>3.166427e+02</td>\n",
       "      <td>2666.666667</td>\n",
       "      <td>1142.857143</td>\n",
       "      <td>312000.000000</td>\n",
       "      <td>133714.285714</td>\n",
       "      <td>300000</td>\n",
       "    </tr>\n",
       "    <tr>\n",
       "      <th>117</th>\n",
       "      <td>2014-08-24</td>\n",
       "      <td>118</td>\n",
       "      <td>0.4</td>\n",
       "      <td>CP</td>\n",
       "      <td>4</td>\n",
       "      <td>13.0</td>\n",
       "      <td>13.5</td>\n",
       "      <td>13.5</td>\n",
       "      <td>13.0</td>\n",
       "      <td>53.0</td>\n",
       "      <td>...</td>\n",
       "      <td>3466.125</td>\n",
       "      <td>1.261986</td>\n",
       "      <td>50.632911</td>\n",
       "      <td>349936</td>\n",
       "      <td>3.172014e+02</td>\n",
       "      <td>2666.666667</td>\n",
       "      <td>1142.857143</td>\n",
       "      <td>314666.666667</td>\n",
       "      <td>134857.142857</td>\n",
       "      <td>300000</td>\n",
       "    </tr>\n",
       "    <tr>\n",
       "      <th>118</th>\n",
       "      <td>2014-08-25</td>\n",
       "      <td>119</td>\n",
       "      <td>0.4</td>\n",
       "      <td>CP</td>\n",
       "      <td>4</td>\n",
       "      <td>13.0</td>\n",
       "      <td>13.5</td>\n",
       "      <td>13.5</td>\n",
       "      <td>13.0</td>\n",
       "      <td>53.0</td>\n",
       "      <td>...</td>\n",
       "      <td>3485.430</td>\n",
       "      <td>1.270202</td>\n",
       "      <td>50.352467</td>\n",
       "      <td>354176</td>\n",
       "      <td>3.177540e+02</td>\n",
       "      <td>2666.666667</td>\n",
       "      <td>1142.857143</td>\n",
       "      <td>317333.333333</td>\n",
       "      <td>136000.000000</td>\n",
       "      <td>300000</td>\n",
       "    </tr>\n",
       "    <tr>\n",
       "      <th>119</th>\n",
       "      <td>2014-08-26</td>\n",
       "      <td>120</td>\n",
       "      <td>0.4</td>\n",
       "      <td>CP</td>\n",
       "      <td>4</td>\n",
       "      <td>13.0</td>\n",
       "      <td>13.5</td>\n",
       "      <td>13.5</td>\n",
       "      <td>13.0</td>\n",
       "      <td>53.0</td>\n",
       "      <td>...</td>\n",
       "      <td>3200.000</td>\n",
       "      <td>1.400062</td>\n",
       "      <td>50.000000</td>\n",
       "      <td>358416</td>\n",
       "      <td>3.486121e+02</td>\n",
       "      <td>2666.666667</td>\n",
       "      <td>1142.857143</td>\n",
       "      <td>320000.000000</td>\n",
       "      <td>137142.857143</td>\n",
       "      <td>300000</td>\n",
       "    </tr>\n",
       "  </tbody>\n",
       "</table>\n",
       "<p>120 rows × 25 columns</p>\n",
       "</div>"
      ],
      "text/plain": [
       "          date  DOC  pond_area feeding_company no_feed  feed1(6am)  \\\n",
       "0   2014-04-29    1        0.4              CP       0         1.0   \n",
       "1   2014-04-30    2        0.4              CP       0         1.5   \n",
       "2   2014-05-01    3        0.4              CP       0         2.0   \n",
       "3   2014-05-02    4        0.4              CP       0         2.5   \n",
       "4   2014-05-03    5        0.4              CP       0         3.0   \n",
       "..         ...  ...        ...             ...     ...         ...   \n",
       "115 2014-08-22  116        0.4              CP       4        13.0   \n",
       "116 2014-08-23  117        0.4              CP       4        13.0   \n",
       "117 2014-08-24  118        0.4              CP       4        13.0   \n",
       "118 2014-08-25  119        0.4              CP       4        13.0   \n",
       "119 2014-08-26  120        0.4              CP       4        13.0   \n",
       "\n",
       "     feed2(10am)  feed3(2pm)  feed4(6pm)  total_feed  ...   Biomass  \\\n",
       "0            0.0         0.0         1.0         2.0  ...     0.000   \n",
       "1            0.0         0.0         1.5         3.0  ...     0.200   \n",
       "2            0.0         0.0         2.0         4.0  ...     1.400   \n",
       "3            0.0         0.0         2.5         5.0  ...     1.800   \n",
       "4            0.0         0.0         3.5         6.5  ...    18.200   \n",
       "..           ...         ...         ...         ...  ...       ...   \n",
       "115         12.5        12.5        13.0        51.0  ...  3436.290   \n",
       "116         13.0        13.0        13.0        52.0  ...  3446.820   \n",
       "117         13.5        13.5        13.0        53.0  ...  3466.125   \n",
       "118         13.5        13.5        13.0        53.0  ...  3485.430   \n",
       "119         13.5        13.5        13.0        53.0  ...  3200.000   \n",
       "\n",
       "           FCR           count    cost         cost1  current_bill  \\\n",
       "0          NaN             NaN     160           NaN   2666.666667   \n",
       "1    25.000000  1000000.000000     400  1.540095e+06   2666.666667   \n",
       "2     6.428571   142857.142857     720  2.229633e+05   2666.666667   \n",
       "3     7.777778   111111.111111    1120  1.757545e+05   2666.666667   \n",
       "4     1.126374    10989.010989    1640  1.762020e+04   2666.666667   \n",
       "..         ...             ...     ...           ...           ...   \n",
       "115   1.242386       51.072523  341536  3.152938e+02   2666.666667   \n",
       "116   1.253677       50.916497  345696  3.166427e+02   2666.666667   \n",
       "117   1.261986       50.632911  349936  3.172014e+02   2666.666667   \n",
       "118   1.270202       50.352467  354176  3.177540e+02   2666.666667   \n",
       "119   1.400062       50.000000  358416  3.486121e+02   2666.666667   \n",
       "\n",
       "     recurrent_inventory  c_current_bill  c_recurrent_inventory  capital  \n",
       "0            1142.857143     2666.666667            1142.857143   300000  \n",
       "1            1142.857143     5333.333333            2285.714286   300000  \n",
       "2            1142.857143     8000.000000            3428.571429   300000  \n",
       "3            1142.857143    10666.666667            4571.428571   300000  \n",
       "4            1142.857143    13333.333333            5714.285714   300000  \n",
       "..                   ...             ...                    ...      ...  \n",
       "115          1142.857143   309333.333333          132571.428571   300000  \n",
       "116          1142.857143   312000.000000          133714.285714   300000  \n",
       "117          1142.857143   314666.666667          134857.142857   300000  \n",
       "118          1142.857143   317333.333333          136000.000000   300000  \n",
       "119          1142.857143   320000.000000          137142.857143   300000  \n",
       "\n",
       "[120 rows x 25 columns]"
      ]
     },
     "execution_count": 5,
     "metadata": {},
     "output_type": "execute_result"
    }
   ],
   "source": [
    "data"
   ]
  },
  {
   "cell_type": "code",
   "execution_count": 6,
   "metadata": {},
   "outputs": [
    {
     "data": {
      "text/html": [
       "<div>\n",
       "<style scoped>\n",
       "    .dataframe tbody tr th:only-of-type {\n",
       "        vertical-align: middle;\n",
       "    }\n",
       "\n",
       "    .dataframe tbody tr th {\n",
       "        vertical-align: top;\n",
       "    }\n",
       "\n",
       "    .dataframe thead th {\n",
       "        text-align: right;\n",
       "    }\n",
       "</style>\n",
       "<table border=\"1\" class=\"dataframe\">\n",
       "  <thead>\n",
       "    <tr style=\"text-align: right;\">\n",
       "      <th></th>\n",
       "      <th>date</th>\n",
       "      <th>DOC</th>\n",
       "      <th>pond_area</th>\n",
       "      <th>feeding_company</th>\n",
       "      <th>no_feed</th>\n",
       "      <th>feed1(6am)</th>\n",
       "      <th>feed2(10am)</th>\n",
       "      <th>feed3(2pm)</th>\n",
       "      <th>feed4(6pm)</th>\n",
       "      <th>total_feed</th>\n",
       "      <th>...</th>\n",
       "      <th>Biomass</th>\n",
       "      <th>FCR</th>\n",
       "      <th>count</th>\n",
       "      <th>cost</th>\n",
       "      <th>cost1</th>\n",
       "      <th>current_bill</th>\n",
       "      <th>recurrent_inventory</th>\n",
       "      <th>c_current_bill</th>\n",
       "      <th>c_recurrent_inventory</th>\n",
       "      <th>capital</th>\n",
       "    </tr>\n",
       "  </thead>\n",
       "  <tbody>\n",
       "    <tr>\n",
       "      <th>118</th>\n",
       "      <td>2014-08-25</td>\n",
       "      <td>119</td>\n",
       "      <td>0.4</td>\n",
       "      <td>CP</td>\n",
       "      <td>4</td>\n",
       "      <td>13.0</td>\n",
       "      <td>13.5</td>\n",
       "      <td>13.5</td>\n",
       "      <td>13.0</td>\n",
       "      <td>53.0</td>\n",
       "      <td>...</td>\n",
       "      <td>3485.43</td>\n",
       "      <td>1.270202</td>\n",
       "      <td>50.352467</td>\n",
       "      <td>354176</td>\n",
       "      <td>317.754003</td>\n",
       "      <td>2666.666667</td>\n",
       "      <td>1142.857143</td>\n",
       "      <td>317333.333333</td>\n",
       "      <td>136000.000000</td>\n",
       "      <td>300000</td>\n",
       "    </tr>\n",
       "    <tr>\n",
       "      <th>119</th>\n",
       "      <td>2014-08-26</td>\n",
       "      <td>120</td>\n",
       "      <td>0.4</td>\n",
       "      <td>CP</td>\n",
       "      <td>4</td>\n",
       "      <td>13.0</td>\n",
       "      <td>13.5</td>\n",
       "      <td>13.5</td>\n",
       "      <td>13.0</td>\n",
       "      <td>53.0</td>\n",
       "      <td>...</td>\n",
       "      <td>3200.00</td>\n",
       "      <td>1.400062</td>\n",
       "      <td>50.000000</td>\n",
       "      <td>358416</td>\n",
       "      <td>348.612143</td>\n",
       "      <td>2666.666667</td>\n",
       "      <td>1142.857143</td>\n",
       "      <td>320000.000000</td>\n",
       "      <td>137142.857143</td>\n",
       "      <td>300000</td>\n",
       "    </tr>\n",
       "  </tbody>\n",
       "</table>\n",
       "<p>2 rows × 25 columns</p>\n",
       "</div>"
      ],
      "text/plain": [
       "          date  DOC  pond_area feeding_company no_feed  feed1(6am)  \\\n",
       "118 2014-08-25  119        0.4              CP       4        13.0   \n",
       "119 2014-08-26  120        0.4              CP       4        13.0   \n",
       "\n",
       "     feed2(10am)  feed3(2pm)  feed4(6pm)  total_feed  ...  Biomass       FCR  \\\n",
       "118         13.5        13.5        13.0        53.0  ...  3485.43  1.270202   \n",
       "119         13.5        13.5        13.0        53.0  ...  3200.00  1.400062   \n",
       "\n",
       "         count    cost       cost1  current_bill  recurrent_inventory  \\\n",
       "118  50.352467  354176  317.754003   2666.666667          1142.857143   \n",
       "119  50.000000  358416  348.612143   2666.666667          1142.857143   \n",
       "\n",
       "     c_current_bill  c_recurrent_inventory  capital  \n",
       "118   317333.333333          136000.000000   300000  \n",
       "119   320000.000000          137142.857143   300000  \n",
       "\n",
       "[2 rows x 25 columns]"
      ]
     },
     "execution_count": 6,
     "metadata": {},
     "output_type": "execute_result"
    }
   ],
   "source": [
    "data.tail(2)"
   ]
  },
  {
   "cell_type": "code",
   "execution_count": 7,
   "metadata": {},
   "outputs": [],
   "source": [
    "w=data['CDG'][1:120]"
   ]
  },
  {
   "cell_type": "code",
   "execution_count": 8,
   "metadata": {},
   "outputs": [],
   "source": [
    "#cf=data['cumulative_feed'][1:120]*80\n",
    "c=data['count'][1:120]"
   ]
  },
  {
   "cell_type": "code",
   "execution_count": 9,
   "metadata": {},
   "outputs": [],
   "source": [
    "Y=[]\n",
    "z=[]\n",
    "d=data['DOC'][1:120]"
   ]
  },
  {
   "cell_type": "code",
   "execution_count": 10,
   "metadata": {},
   "outputs": [],
   "source": [
    "for i in range(1,120,1):\n",
    "        if(c[i]>100):\n",
    "            Y.append(100)\n",
    "        elif(c[i]>90):\n",
    "            Y.append(200)\n",
    "        elif(c[i]>80):\n",
    "            Y.append(210)\n",
    "        elif(c[i]>70):\n",
    "            Y.append(230)\n",
    "        elif(c[i]>60):\n",
    "            Y.append(250)\n",
    "        elif(c[i]>50):\n",
    "            Y.append(280)\n",
    "        elif(c[i]>40):\n",
    "            Y.append(300)\n",
    "        elif(c[i]>30):\n",
    "            Y.append(340)\n",
    "        else:\n",
    "            Y.append(440)\n",
    "        z.append(w[i])"
   ]
  },
  {
   "cell_type": "code",
   "execution_count": 11,
   "metadata": {},
   "outputs": [],
   "source": [
    "profit=Y-data['cost1'][1:120]"
   ]
  },
  {
   "cell_type": "code",
   "execution_count": 12,
   "metadata": {},
   "outputs": [
    {
     "data": {
      "text/plain": [
       "[100,\n",
       " 100,\n",
       " 100,\n",
       " 100,\n",
       " 100,\n",
       " 100,\n",
       " 100,\n",
       " 100,\n",
       " 100,\n",
       " 100,\n",
       " 100,\n",
       " 100,\n",
       " 100,\n",
       " 100,\n",
       " 100,\n",
       " 100,\n",
       " 100,\n",
       " 100,\n",
       " 100,\n",
       " 100,\n",
       " 100,\n",
       " 100,\n",
       " 100,\n",
       " 100,\n",
       " 100,\n",
       " 100,\n",
       " 100,\n",
       " 100,\n",
       " 100,\n",
       " 100,\n",
       " 100,\n",
       " 100,\n",
       " 100,\n",
       " 100,\n",
       " 100,\n",
       " 100,\n",
       " 100,\n",
       " 100,\n",
       " 100,\n",
       " 100,\n",
       " 100,\n",
       " 100,\n",
       " 100,\n",
       " 100,\n",
       " 100,\n",
       " 100,\n",
       " 100,\n",
       " 100,\n",
       " 100,\n",
       " 100,\n",
       " 100,\n",
       " 100,\n",
       " 100,\n",
       " 200,\n",
       " 200,\n",
       " 200,\n",
       " 200,\n",
       " 200,\n",
       " 200,\n",
       " 210,\n",
       " 210,\n",
       " 210,\n",
       " 210,\n",
       " 210,\n",
       " 210,\n",
       " 210,\n",
       " 230,\n",
       " 230,\n",
       " 230,\n",
       " 230,\n",
       " 230,\n",
       " 230,\n",
       " 230,\n",
       " 230,\n",
       " 230,\n",
       " 230,\n",
       " 230,\n",
       " 250,\n",
       " 250,\n",
       " 250,\n",
       " 250,\n",
       " 250,\n",
       " 250,\n",
       " 250,\n",
       " 250,\n",
       " 250,\n",
       " 250,\n",
       " 250,\n",
       " 250,\n",
       " 250,\n",
       " 250,\n",
       " 250,\n",
       " 280,\n",
       " 280,\n",
       " 280,\n",
       " 280,\n",
       " 280,\n",
       " 280,\n",
       " 280,\n",
       " 280,\n",
       " 280,\n",
       " 280,\n",
       " 280,\n",
       " 280,\n",
       " 280,\n",
       " 280,\n",
       " 280,\n",
       " 280,\n",
       " 280,\n",
       " 280,\n",
       " 280,\n",
       " 280,\n",
       " 280,\n",
       " 280,\n",
       " 280,\n",
       " 280,\n",
       " 280,\n",
       " 280,\n",
       " 300]"
      ]
     },
     "execution_count": 12,
     "metadata": {},
     "output_type": "execute_result"
    }
   ],
   "source": [
    "Y"
   ]
  },
  {
   "cell_type": "code",
   "execution_count": 13,
   "metadata": {},
   "outputs": [
    {
     "data": {
      "text/plain": [
       "1     -1.539995e+06\n",
       "2     -2.228633e+05\n",
       "3     -1.756545e+05\n",
       "4     -1.752020e+04\n",
       "5     -1.542511e+03\n",
       "           ...     \n",
       "115   -3.529375e+01\n",
       "116   -3.664267e+01\n",
       "117   -3.720143e+01\n",
       "118   -3.775400e+01\n",
       "119   -4.861214e+01\n",
       "Name: cost1, Length: 119, dtype: float64"
      ]
     },
     "execution_count": 13,
     "metadata": {},
     "output_type": "execute_result"
    }
   ],
   "source": [
    "profit"
   ]
  },
  {
   "cell_type": "code",
   "execution_count": 14,
   "metadata": {},
   "outputs": [],
   "source": [
    "import numpy as np\n",
    "import matplotlib.pyplot as plt\n",
    "from sklearn import linear_model\n",
    "#from sklearn.linear_model import LinearRegression"
   ]
  },
  {
   "cell_type": "code",
   "execution_count": 15,
   "metadata": {},
   "outputs": [],
   "source": [
    "df_1 = pd.DataFrame(Y)\n",
    "df_2 = pd.DataFrame(z)\n",
    "#df_3 = pd.DataFrame(Fcr)\n",
    "df = pd.concat([df_1, df_2], axis=1)"
   ]
  },
  {
   "cell_type": "code",
   "execution_count": 380,
   "metadata": {},
   "outputs": [],
   "source": [
    "#df"
   ]
  },
  {
   "cell_type": "code",
   "execution_count": 381,
   "metadata": {},
   "outputs": [],
   "source": [
    "#df.shape"
   ]
  },
  {
   "cell_type": "code",
   "execution_count": null,
   "metadata": {},
   "outputs": [],
   "source": []
  },
  {
   "cell_type": "code",
   "execution_count": null,
   "metadata": {},
   "outputs": [],
   "source": []
  },
  {
   "cell_type": "code",
   "execution_count": 382,
   "metadata": {},
   "outputs": [],
   "source": [
    "#df_1"
   ]
  },
  {
   "cell_type": "code",
   "execution_count": 383,
   "metadata": {},
   "outputs": [],
   "source": [
    "#lm=linear_model.LinearRegression()\n",
    "#model=lm.fit(df_1,df_2)"
   ]
  },
  {
   "cell_type": "code",
   "execution_count": 384,
   "metadata": {},
   "outputs": [],
   "source": [
    "#model.coef_"
   ]
  },
  {
   "cell_type": "code",
   "execution_count": null,
   "metadata": {},
   "outputs": [],
   "source": []
  },
  {
   "cell_type": "code",
   "execution_count": 385,
   "metadata": {},
   "outputs": [],
   "source": [
    "#model.intercept_"
   ]
  },
  {
   "cell_type": "code",
   "execution_count": 16,
   "metadata": {},
   "outputs": [],
   "source": [
    "import seaborn as sns"
   ]
  },
  {
   "cell_type": "code",
   "execution_count": 17,
   "metadata": {},
   "outputs": [],
   "source": [
    "L=d[4:120]\n",
    "K=profit[4:120]"
   ]
  },
  {
   "cell_type": "code",
   "execution_count": 18,
   "metadata": {},
   "outputs": [
    {
     "name": "stderr",
     "output_type": "stream",
     "text": [
      "C:\\Users\\Praveen\\3D Objects\\anaconda\\lib\\site-packages\\seaborn\\_decorators.py:36: FutureWarning: Pass the following variables as keyword args: x, y. From version 0.12, the only valid positional argument will be `data`, and passing other arguments without an explicit keyword will result in an error or misinterpretation.\n",
      "  warnings.warn(\n"
     ]
    },
    {
     "data": {
      "text/plain": [
       "<matplotlib.collections.PathCollection at 0x204c7b1d6d0>"
      ]
     },
     "execution_count": 18,
     "metadata": {},
     "output_type": "execute_result"
    },
    {
     "data": {
      "image/png": "[encoded data removed]",
      "text/plain": [
       "<Figure size 432x288 with 1 Axes>"
      ]
     },
     "metadata": {
      "needs_background": "light"
     },
     "output_type": "display_data"
    }
   ],
   "source": [
    "plt.figure()\n",
    "sns.regplot(L,K,fit_reg=True)\n",
    "plt.scatter(np.mean(L),np.mean(K),color=\"red\")"
   ]
  },
  {
   "cell_type": "code",
   "execution_count": null,
   "metadata": {},
   "outputs": [],
   "source": []
  },
  {
   "cell_type": "code",
   "execution_count": 19,
   "metadata": {},
   "outputs": [
    {
     "name": "stdout",
     "output_type": "stream",
     "text": [
      "         2\n",
      "-0.1282 x + 23.53 x - 1064\n"
     ]
    }
   ],
   "source": [
    "curve1=np.polyfit(L,K,2)\n",
    "poly1=np.poly1d(curve1)\n",
    "print(poly1)"
   ]
  },
  {
   "cell_type": "code",
   "execution_count": 20,
   "metadata": {},
   "outputs": [],
   "source": [
    "K_n=[]\n",
    "for i in L:\n",
    "    pol=poly1(i)\n",
    "    K_n.append(pol)"
   ]
  },
  {
   "cell_type": "code",
   "execution_count": 21,
   "metadata": {},
   "outputs": [
    {
     "data": {
      "text/plain": [
       "[<matplotlib.lines.Line2D at 0x204c7eca5b0>]"
      ]
     },
     "execution_count": 21,
     "metadata": {},
     "output_type": "execute_result"
    },
    {
     "data": {
      "image/png": "[encoded data removed]",
      "text/plain": [
       "<Figure size 432x288 with 1 Axes>"
      ]
     },
     "metadata": {
      "needs_background": "light"
     },
     "output_type": "display_data"
    }
   ],
   "source": [
    "fig=plt.figure()\n",
    "myaxes=fig.add_axes([0.1,0.1,1.6,1.6])\n",
    "myaxes.plot(L,K_n,'r',lw=2,label='pond1')\n"
   ]
  },
  {
   "cell_type": "code",
   "execution_count": null,
   "metadata": {},
   "outputs": [],
   "source": []
  },
  {
   "cell_type": "code",
   "execution_count": 22,
   "metadata": {},
   "outputs": [
    {
     "name": "stdout",
     "output_type": "stream",
     "text": [
      "         2\n",
      "-0.1282 x + 23.53 x - 1064\n"
     ]
    }
   ],
   "source": [
    "curve2=np.polyfit(L,K,3)\n",
    "poly2=np.poly1d(curve1)\n",
    "print(poly2)"
   ]
  },
  {
   "cell_type": "code",
   "execution_count": 23,
   "metadata": {},
   "outputs": [],
   "source": [
    "K_n2=[]\n",
    "for i in L:\n",
    "    pol=poly2(i)\n",
    "    K_n2.append(pol)"
   ]
  },
  {
   "cell_type": "code",
   "execution_count": 394,
   "metadata": {},
   "outputs": [
    {
     "data": {
      "text/plain": [
       "[<matplotlib.lines.Line2D at 0x24e4b2746a0>]"
      ]
     },
     "execution_count": 394,
     "metadata": {},
     "output_type": "execute_result"
    },
    {
     "data": {
      "image/png": "[encoded data removed]",
      "text/plain": [
       "<Figure size 432x288 with 1 Axes>"
      ]
     },
     "metadata": {
      "needs_background": "light"
     },
     "output_type": "display_data"
    }
   ],
   "source": [
    "fig=plt.figure()\n",
    "myaxes=fig.add_axes([0.1,0.1,1.6,1.6])\n",
    "myaxes.plot(L,K_n2,'r',lw=2,label='pond1')\n"
   ]
  },
  {
   "cell_type": "code",
   "execution_count": 24,
   "metadata": {},
   "outputs": [
    {
     "data": {
      "text/plain": [
       "6792.747100862669"
      ]
     },
     "execution_count": 24,
     "metadata": {},
     "output_type": "execute_result"
    }
   ],
   "source": [
    "mean_squared_error(K, K_n2)"
   ]
  },
  {
   "cell_type": "code",
   "execution_count": null,
   "metadata": {},
   "outputs": [],
   "source": []
  },
  {
   "cell_type": "code",
   "execution_count": 25,
   "metadata": {},
   "outputs": [],
   "source": [
    "import numpy as np \n",
    "import matplotlib.pyplot as plt \n",
    "import pandas as pd"
   ]
  },
  {
   "cell_type": "code",
   "execution_count": 26,
   "metadata": {},
   "outputs": [],
   "source": [
    "hi=pd.DataFrame.from_dict(profit)"
   ]
  },
  {
   "cell_type": "code",
   "execution_count": 27,
   "metadata": {},
   "outputs": [],
   "source": [
    "#dataset = pd.read_csv('Position_Salaries.csv') \n",
    "X = data.iloc[4:120,1].values \n",
    "y = hi.iloc[3:, 0].values"
   ]
  },
  {
   "cell_type": "code",
   "execution_count": 28,
   "metadata": {},
   "outputs": [],
   "source": [
    "from sklearn.preprocessing import StandardScaler \n",
    "sc_X = StandardScaler() \n",
    "sc_y = StandardScaler() \n",
    "X = sc_X.fit_transform(X.reshape(-1,1)) \n",
    "y = sc_y.fit_transform(y.reshape(-1,1))"
   ]
  },
  {
   "cell_type": "code",
   "execution_count": 400,
   "metadata": {},
   "outputs": [],
   "source": [
    "#len(X)"
   ]
  },
  {
   "cell_type": "code",
   "execution_count": 401,
   "metadata": {},
   "outputs": [],
   "source": [
    "#hi=pd.DataFrame.from_dict(profit)"
   ]
  },
  {
   "cell_type": "code",
   "execution_count": 402,
   "metadata": {},
   "outputs": [],
   "source": [
    "#hi"
   ]
  },
  {
   "cell_type": "code",
   "execution_count": 29,
   "metadata": {},
   "outputs": [
    {
     "name": "stderr",
     "output_type": "stream",
     "text": [
      "C:\\Users\\Praveen\\3D Objects\\anaconda\\lib\\site-packages\\sklearn\\utils\\validation.py:72: DataConversionWarning: A column-vector y was passed when a 1d array was expected. Please change the shape of y to (n_samples, ), for example using ravel().\n",
      "  return f(**kwargs)\n"
     ]
    },
    {
     "data": {
      "text/plain": [
       "SVR()"
      ]
     },
     "execution_count": 29,
     "metadata": {},
     "output_type": "execute_result"
    }
   ],
   "source": [
    "from sklearn.svm import SVR \n",
    "regressor = SVR(kernel = 'rbf') \n",
    "regressor.fit(X, y)"
   ]
  },
  {
   "cell_type": "code",
   "execution_count": 30,
   "metadata": {},
   "outputs": [],
   "source": [
    "y_pred = regressor.predict([[6.5]]) \n",
    "y_pred = sc_y.inverse_transform(y_pred)"
   ]
  },
  {
   "cell_type": "code",
   "execution_count": 31,
   "metadata": {},
   "outputs": [
    {
     "data": {
      "image/png": "[encoded data removed]",
      "text/plain": [
       "<Figure size 432x288 with 1 Axes>"
      ]
     },
     "metadata": {
      "needs_background": "light"
     },
     "output_type": "display_data"
    }
   ],
   "source": [
    "plt.scatter(X, y, color = 'red') \n",
    "plt.plot(X, regressor.predict(X), color = 'blue') \n",
    "plt.xlabel('DOC') \n",
    "plt.ylabel('profit') \n",
    "plt.show()"
   ]
  },
  {
   "cell_type": "code",
   "execution_count": 406,
   "metadata": {},
   "outputs": [],
   "source": [
    "#X"
   ]
  },
  {
   "cell_type": "code",
   "execution_count": 32,
   "metadata": {},
   "outputs": [
    {
     "data": {
      "text/plain": [
       "116"
      ]
     },
     "execution_count": 32,
     "metadata": {},
     "output_type": "execute_result"
    }
   ],
   "source": [
    "len(y)\n",
    "\n"
   ]
  },
  {
   "cell_type": "code",
   "execution_count": 33,
   "metadata": {},
   "outputs": [
    {
     "data": {
      "text/plain": [
       "0.8887701498756254"
      ]
     },
     "execution_count": 33,
     "metadata": {},
     "output_type": "execute_result"
    }
   ],
   "source": [
    "mean_squared_error(y, regressor.predict(X))"
   ]
  },
  {
   "cell_type": "code",
   "execution_count": 34,
   "metadata": {},
   "outputs": [
    {
     "data": {
      "text/plain": [
       "116"
      ]
     },
     "execution_count": 34,
     "metadata": {},
     "output_type": "execute_result"
    }
   ],
   "source": [
    "len(y)"
   ]
  },
  {
   "cell_type": "code",
   "execution_count": 35,
   "metadata": {},
   "outputs": [
    {
     "data": {
      "text/plain": [
       "116"
      ]
     },
     "execution_count": 35,
     "metadata": {},
     "output_type": "execute_result"
    }
   ],
   "source": [
    "len(regressor.predict(X))"
   ]
  },
  {
   "cell_type": "code",
   "execution_count": null,
   "metadata": {},
   "outputs": [],
   "source": []
  },
  {
   "cell_type": "code",
   "execution_count": 36,
   "metadata": {},
   "outputs": [],
   "source": [
    "def mean_absolute_percentage_error(y_predicted,y_test):\n",
    "    y_predicted,y_test = np.array(y_predicted), np.array(y_test)\n",
    "    return np.mean(np.abs((y_test-y_predicted)/y_test)) * 100"
   ]
  },
  {
   "cell_type": "code",
   "execution_count": 37,
   "metadata": {},
   "outputs": [
    {
     "data": {
      "text/plain": [
       "325.4378170856761"
      ]
     },
     "execution_count": 37,
     "metadata": {},
     "output_type": "execute_result"
    }
   ],
   "source": [
    "mape=mean_absolute_percentage_error(y, regressor.predict(X))\n",
    "mape"
   ]
  },
  {
   "cell_type": "code",
   "execution_count": null,
   "metadata": {},
   "outputs": [],
   "source": []
  },
  {
   "cell_type": "code",
   "execution_count": 38,
   "metadata": {
    "scrolled": false
   },
   "outputs": [
    {
     "name": "stdout",
     "output_type": "stream",
     "text": [
      "-1539995.238095238\n",
      "-222863.26530612243\n",
      "-175654.4973544974\n",
      "-17520.198848770277\n",
      "-1542.5108225108224\n",
      "-1372.4404761904761\n",
      "-986.3512677798392\n",
      "-797.7928949357522\n",
      "-769.4104286625972\n",
      "-739.8679041156956\n",
      "-732.1062623474552\n",
      "-717.4497538456742\n",
      "-686.516428644344\n",
      "-649.6235167086081\n",
      "-633.5956085973266\n",
      "-616.1175029268927\n",
      "-602.569411405539\n",
      "-578.1593661267744\n",
      "-567.0581217835951\n",
      "-552.3810209879928\n",
      "-536.8543991581516\n",
      "-509.70012961666737\n",
      "-507.49321833065676\n",
      "-505.3741112603933\n",
      "-501.76634388934644\n",
      "-503.21332849843543\n",
      "-488.62700873270376\n",
      "-481.3998778148358\n",
      "-473.14218679858527\n",
      "-449.30083031784795\n",
      "-414.1747890866536\n",
      "-387.08220663499407\n",
      "-383.77786954565795\n",
      "-340.8409861412066\n",
      "-321.67515702617106\n",
      "-319.44362059090116\n",
      "-309.31958730800767\n",
      "-300.5991614007116\n",
      "-297.8219077720807\n",
      "-291.70989246207\n",
      "-286.5450428083966\n",
      "-282.23376120656195\n",
      "-278.69848472325634\n",
      "-269.4113511246179\n",
      "-259.86954964617263\n",
      "-253.67947687135108\n",
      "-243.36533986025933\n",
      "-231.6106637675437\n",
      "-234.2363865327735\n",
      "-229.46796491279338\n",
      "-229.86694355672944\n",
      "-223.33374398589382\n",
      "-219.47157387785813\n",
      "-112.35120039049667\n",
      "-111.96328077237973\n",
      "-112.4891058288602\n",
      "-109.44798422648319\n",
      "-103.43471740981721\n",
      "-103.89850906413\n",
      "-93.95171104433558\n",
      "-92.92574946104543\n",
      "-93.253896490621\n",
      "-89.92451100822632\n",
      "-86.73513332576408\n",
      "-82.47253177612117\n",
      "-80.2739395212327\n",
      "-56.78952061198419\n",
      "-56.32542396212307\n",
      "-55.65214390624931\n",
      "-55.86412331469688\n",
      "-56.072260196103\n",
      "-55.84874081494655\n",
      "-56.40572012286435\n",
      "-53.09808199228428\n",
      "-51.93056372583487\n",
      "-51.78939621872075\n",
      "-51.65100252929028\n",
      "-27.84672094915112\n",
      "-28.128135839106164\n",
      "-28.05705211554971\n",
      "-29.66754264302591\n",
      "-31.079114817027005\n",
      "-29.684421047127444\n",
      "-29.96720416455173\n",
      "-29.157951888373077\n",
      "-28.01181307497734\n",
      "-28.12210571969871\n",
      "-28.755890866830725\n",
      "-27.472929343716714\n",
      "-28.29535949088313\n",
      "-29.10869643003423\n",
      "-28.382581142437232\n",
      "5.625594220423068\n",
      "8.035452361258933\n",
      "7.54986027986115\n",
      "7.204661363545426\n",
      "7.034847100822105\n",
      "9.898282032556779\n",
      "9.390478668580329\n",
      "8.888844092018132\n",
      "7.345747491925806\n",
      "6.561056329520682\n",
      "5.184364019817508\n",
      "3.965687650924565\n",
      "4.995620628581321\n",
      "5.373968779220547\n",
      "-6.803939244850255\n",
      "-7.9288098070438195\n",
      "-8.74112481733789\n",
      "-9.242749848646781\n",
      "-10.213657542562828\n",
      "-11.479024772775404\n",
      "-12.28243875439864\n",
      "-12.626593224265832\n",
      "-35.293750499743055\n",
      "-36.64266939216026\n",
      "-37.2014308554393\n",
      "-37.75400261469423\n",
      "-48.612142857142885\n"
     ]
    }
   ],
   "source": [
    "for i in profit:\n",
    "    print(i)"
   ]
  },
  {
   "cell_type": "code",
   "execution_count": 41,
   "metadata": {},
   "outputs": [
    {
     "data": {
      "text/plain": [
       "9.898282032556779"
      ]
     },
     "execution_count": 41,
     "metadata": {},
     "output_type": "execute_result"
    }
   ],
   "source": [
    "profit[98]"
   ]
  },
  {
   "cell_type": "code",
   "execution_count": null,
   "metadata": {},
   "outputs": [],
   "source": []
  }
 ],
 "metadata": {
  "kernelspec": {
   "display_name": "Python 3",
   "language": "python",
   "name": "python3"
  },
  "language_info": {
   "codemirror_mode": {
    "name": "ipython",
    "version": 3
   },
   "file_extension": ".py",
   "mimetype": "text/x-python",
   "name": "python",
   "nbconvert_exporter": "python",
   "pygments_lexer": "ipython3",
   "version": "3.8.5"
  }
 },
 "nbformat": 4,
 "nbformat_minor": 4
}
